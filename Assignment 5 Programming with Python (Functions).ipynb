{
 "cells": [
  {
   "cell_type": "markdown",
   "metadata": {},
   "source": [
    "# Task 5      Name - Ankit Kumar     Referral id - SIRSS1139\n"
   ]
  },
  {
   "cell_type": "markdown",
   "metadata": {},
   "source": [
    "Q1. Given a list of integers, write a function to return the sum of all prime numbers in that\n",
    "list. "
   ]
  },
  {
   "cell_type": "code",
   "execution_count": 15,
   "metadata": {},
   "outputs": [
    {
     "name": "stdout",
     "output_type": "stream",
     "text": [
      "14\n"
     ]
    }
   ],
   "source": [
    "def isprime(n):\n",
    "    if n==1:\n",
    "        return 0\n",
    "    for i in range(2,int(n**(0.5))+1):\n",
    "        if n%i==0:\n",
    "            return 0\n",
    "    else:\n",
    "        return 1\n",
    "l1=[12,7,8,9,2,5]\n",
    "sum=0\n",
    "for i in l1:\n",
    "    if isprime(i)==1:\n",
    "        sum+=i\n",
    "print(sum)"
   ]
  },
  {
   "cell_type": "markdown",
   "metadata": {},
   "source": [
    "Q2. Given a list of integers, write a function to check whether the list is strictly increasing or\n",
    "not."
   ]
  },
  {
   "cell_type": "code",
   "execution_count": 16,
   "metadata": {},
   "outputs": [
    {
     "name": "stdout",
     "output_type": "stream",
     "text": [
      "Original list : [12, 7, 8, 9, 2, 5]\n",
      "Is list strictly increasing ? : False\n"
     ]
    }
   ],
   "source": [
    "l1=[12,7,8,9,2,5]\n",
    "print (\"Original list : \" + str(l1))\n",
    "res = all(i < j for i, j in zip(l1, l1[1:]))\n",
    "print (\"Is list strictly increasing ? : \" + str(res))"
   ]
  },
  {
   "cell_type": "markdown",
   "metadata": {},
   "source": [
    "Q3. Write a function to check whether a given list is expanding or not (the difference\n",
    "between adjacent elements should keep on increasing). "
   ]
  },
  {
   "cell_type": "code",
   "execution_count": 17,
   "metadata": {},
   "outputs": [
    {
     "name": "stdout",
     "output_type": "stream",
     "text": [
      "List is expanding:  False\n"
     ]
    }
   ],
   "source": [
    "def expn(l):\n",
    "    diff=0\n",
    "    flag=True\n",
    "    for i in range(1,len(l)):\n",
    "        diff1=l[i]-l[i-1]\n",
    "        if diff>diff1:\n",
    "            flag=False\n",
    "            break\n",
    "        diff=diff1\n",
    "            \n",
    "    return  flag\n",
    "l1=[12, 7, 8, 9, 2, 5]\n",
    "list1=list(map(lambda x:int(x),l1))\n",
    "print('List is expanding: ',expn(list1))"
   ]
  },
  {
   "cell_type": "markdown",
   "metadata": {},
   "source": [
    "Q4. Write a function to calculate all permutations of a given string. (Without using itertools)\n"
   ]
  },
  {
   "cell_type": "code",
   "execution_count": 18,
   "metadata": {},
   "outputs": [
    {
     "name": "stdout",
     "output_type": "stream",
     "text": [
      "123\n",
      "123\n",
      "132\n",
      "213\n",
      "231\n",
      "321\n",
      "312\n"
     ]
    }
   ],
   "source": [
    "def permutations(string, step = 0):\n",
    "    if step == len(string):\n",
    "        print(\"\".join(string))\n",
    "    for i in range(step, len(string)):\n",
    "        str_copy = [character for character in string]\n",
    "        str_copy[step], str_copy[i] = str_copy[i], str_copy[step]\n",
    "        permutations(str_copy, step + 1)\n",
    "permutations(str(input()))"
   ]
  },
  {
   "cell_type": "code",
   "execution_count": null,
   "metadata": {},
   "outputs": [],
   "source": []
  }
 ],
 "metadata": {
  "kernelspec": {
   "display_name": "Python 3",
   "language": "python",
   "name": "python3"
  },
  "language_info": {
   "codemirror_mode": {
    "name": "ipython",
    "version": 3
   },
   "file_extension": ".py",
   "mimetype": "text/x-python",
   "name": "python",
   "nbconvert_exporter": "python",
   "pygments_lexer": "ipython3",
   "version": "3.8.5"
  }
 },
 "nbformat": 4,
 "nbformat_minor": 5
}
