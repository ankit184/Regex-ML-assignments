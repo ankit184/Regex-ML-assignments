{
 "cells": [
  {
   "cell_type": "markdown",
   "metadata": {},
   "source": [
    "# Task 3 Name - Name - Ankit Kumar     Referral id - SIRSS1139"
   ]
  },
  {
   "cell_type": "code",
   "execution_count": 16,
   "metadata": {},
   "outputs": [
    {
     "name": "stdout",
     "output_type": "stream",
     "text": [
      "21\n"
     ]
    }
   ],
   "source": [
    "# function to return nth term of Fibonacci sequence\n",
    "\n",
    "def Fibonacci(n):\n",
    "    if n<= 0:\n",
    "        print(\"Incorrect input\")\n",
    "    elif n == 1:\n",
    "        return 0\n",
    "    elif n == 2:\n",
    "        return 1\n",
    "    else:\n",
    "        return Fibonacci(n-1)+Fibonacci(n-2)\n",
    "\n",
    "print(Fibonacci(9))"
   ]
  },
  {
   "cell_type": "code",
   "execution_count": 17,
   "metadata": {},
   "outputs": [
    {
     "name": "stdout",
     "output_type": "stream",
     "text": [
      "gcd( 15 , 10 ) =  5\n"
     ]
    }
   ],
   "source": [
    "# Write a function to find out GCD of two numbers using EUCLID'S algorithm.\n",
    "\n",
    "def gcd(a, b):\n",
    "    if a == 0 :\n",
    "        return b\n",
    "     \n",
    "    return gcd(b%a, a)\n",
    " \n",
    "a = 15\n",
    "b = 10\n",
    "print(\"gcd(\", a , \",\" , b, \") = \", gcd(a, b))"
   ]
  },
  {
   "cell_type": "code",
   "execution_count": 19,
   "metadata": {},
   "outputs": [
    {
     "name": "stdout",
     "output_type": "stream",
     "text": [
      "The L.C.M. is 216\n"
     ]
    }
   ],
   "source": [
    "# Write a function to find LCM of two number in most optimized way.\n",
    "\n",
    "def gcd(x, y):\n",
    "\n",
    "   while(y):\n",
    "       x, y = y, x % y\n",
    "   return x\n",
    "\n",
    "def Lcm(x, y):\n",
    "   lcm = (x*y)//gcd(x,y)\n",
    "   return lcm\n",
    "\n",
    "num1 = 54\n",
    "num2 = 24 \n",
    "\n",
    "print(\"The L.C.M. is\", Lcm(num1, num2))\n"
   ]
  }
 ],
 "metadata": {
  "kernelspec": {
   "display_name": "Python 3",
   "language": "python",
   "name": "python3"
  },
  "language_info": {
   "codemirror_mode": {
    "name": "ipython",
    "version": 3
   },
   "file_extension": ".py",
   "mimetype": "text/x-python",
   "name": "python",
   "nbconvert_exporter": "python",
   "pygments_lexer": "ipython3",
   "version": "3.8.5"
  }
 },
 "nbformat": 4,
 "nbformat_minor": 5
}
